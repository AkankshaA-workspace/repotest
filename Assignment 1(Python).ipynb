{
 "cells": [
  {
   "cell_type": "markdown",
   "id": "967ddf09",
   "metadata": {},
   "source": [
    "### Q1. Using Python script as a calculator\n",
    "Create the variables n, r, p and assign them values 10, 5, and 100 respectively. Then\n",
    "evaluate the following expression in the Python console.\n",
    "𝐴 = 𝑝 (1 + 𝑟/ 100)n\n",
    "\n",
    "- a. 100\n",
    "- b. 162.89\n",
    "- c. 189\n",
    "- d. None of the above\n"
   ]
  },
  {
   "cell_type": "code",
   "execution_count": 3,
   "id": "191eae2c",
   "metadata": {},
   "outputs": [
    {
     "name": "stdout",
     "output_type": "stream",
     "text": [
      "The Value of expression:162.89\n"
     ]
    }
   ],
   "source": [
    "n=10\n",
    "r=5\n",
    "p=100\n",
    "\n",
    "A = p*(1+r/100)**n\n",
    "\n",
    "print(f\"The Value of expression:{A:.2f}\")"
   ]
  },
  {
   "cell_type": "markdown",
   "id": "db9f6a45",
   "metadata": {},
   "source": [
    "### Q2. In a given string format operation, how will you print the given string.\n",
    "A = 10\n",
    "B = 20\n",
    "Str = \"There are {} students in the class, with {} who play at least one sport.\"\n",
    "- a. print(string.format(a,b))\n",
    "- b. print(string+a+b)\n",
    "- c. print(string.format(b,a))\n",
    "- d. None of the above"
   ]
  },
  {
   "cell_type": "code",
   "execution_count": 9,
   "id": "87b30e38",
   "metadata": {},
   "outputs": [
    {
     "name": "stdout",
     "output_type": "stream",
     "text": [
      "There are 20 students in the class, with 10 who play at least one sport.\n"
     ]
    }
   ],
   "source": [
    "A = 10 \n",
    "B = 20 \n",
    "Str = \"There are {} students in the class, with {} who play at least one sport.\"\n",
    "print(Str.format(B,A))"
   ]
  },
  {
   "cell_type": "markdown",
   "id": "07cedaab",
   "metadata": {},
   "source": [
    "### Q3. In a given sample string, How do you print a double quoted string in between a\n",
    "regular\n",
    "string using the escape character?\n",
    "Sample output = It goes without saying, “Time is Money”, and none can deny it.\n",
    "- a. print(“It goes without saying, \\“Time is Money\\”, and none can deny it.”)\n",
    "- b. print(“It goes without saying, \\Time is Money\\, and none can deny it.”)\n",
    "- c. print(“It goes without saying” + “Time is Money” + “and none can deny it.”)\n",
    "- d. None of the above.\n"
   ]
  },
  {
   "cell_type": "code",
   "execution_count": 10,
   "id": "715bba21",
   "metadata": {},
   "outputs": [
    {
     "name": "stdout",
     "output_type": "stream",
     "text": [
      "It goes without saying, \"Time is Money\", and none can deny it.\n"
     ]
    }
   ],
   "source": [
    "#Ans Option A\n",
    "print(\"It goes without saying, \\\"Time is Money\\\", and none can deny it.\")"
   ]
  },
  {
   "cell_type": "markdown",
   "id": "fbeffffd",
   "metadata": {},
   "source": [
    "### Q4. What will be the output of the following code?\n",
    "x = lambda a,b: a//b\n",
    "x(10,3)\n",
    "- a. 3.3333333333\n",
    "- b. 3\n",
    "- c. 30\n",
    "- d. 1000"
   ]
  },
  {
   "cell_type": "markdown",
   "id": "639537e5",
   "metadata": {},
   "source": [
    "### Q5. What will be the output of the following code?\n",
    "A = 10\n",
    "B = 12\n",
    "print(\"Smaller\") if A == B else print(\"Greater\") if A < B else print(\"True\")\n",
    "- a. True\n",
    "- b. Smaller\n",
    "- c. Greater\n",
    "- d. None of the above"
   ]
  },
  {
   "cell_type": "code",
   "execution_count": 15,
   "id": "9a14c501",
   "metadata": {},
   "outputs": [
    {
     "name": "stdout",
     "output_type": "stream",
     "text": [
      "Greater\n"
     ]
    }
   ],
   "source": [
    "A= 10\n",
    "B= 12\n",
    "print(\"Smaller\") if A == B else print(\"Greater\") if A < B else print(\"True\")"
   ]
  },
  {
   "cell_type": "markdown",
   "id": "9d58ab70",
   "metadata": {},
   "source": [
    "### Q6. What will be the output of the following code?\n",
    "- a. [2 7 3 5 4 6] \n",
    "- b. TypeError \n",
    "- c. NameError: name 'numpy' is not defined \n",
    "- d. None of the above- \n"
   ]
  },
  {
   "cell_type": "code",
   "execution_count": 16,
   "id": "41199a36",
   "metadata": {},
   "outputs": [
    {
     "ename": "NameError",
     "evalue": "name 'numpy' is not defined",
     "output_type": "error",
     "traceback": [
      "\u001b[1;31m---------------------------------------------------------------------------\u001b[0m",
      "\u001b[1;31mNameError\u001b[0m                                 Traceback (most recent call last)",
      "Cell \u001b[1;32mIn[16], line 5\u001b[0m\n\u001b[0;32m      3\u001b[0m \u001b[38;5;28;01mimport\u001b[39;00m \u001b[38;5;21;01mnumpy\u001b[39;00m \u001b[38;5;28;01mas\u001b[39;00m \u001b[38;5;21;01mnp\u001b[39;00m\n\u001b[0;32m      4\u001b[0m my_list1 \u001b[38;5;241m=\u001b[39m [\u001b[38;5;241m2\u001b[39m,\u001b[38;5;241m7\u001b[39m,\u001b[38;5;241m3\u001b[39m,\u001b[38;5;241m5\u001b[39m,\u001b[38;5;241m4\u001b[39m,\u001b[38;5;241m6\u001b[39m]\n\u001b[1;32m----> 5\u001b[0m \u001b[38;5;28mprint\u001b[39m\u001b[38;5;241m-\u001b[39m numpy\u001b[38;5;241m.\u001b[39marray(my_list,dtype\u001b[38;5;241m=\u001b[39m\u001b[38;5;28mint\u001b[39m)\n\u001b[0;32m      6\u001b[0m \u001b[38;5;28mprint\u001b[39m(arr_1)\n",
      "\u001b[1;31mNameError\u001b[0m: name 'numpy' is not defined"
     ]
    }
   ],
   "source": [
    "#Ans  NameError: name 'numpy' is not defined\n",
    "import os\n",
    "import numpy as np\n",
    "my_list1 = [2,7,3,5,4,6]\n",
    "print- numpy.array(my_list,dtype=int)\n",
    "print(arr_1)"
   ]
  },
  {
   "cell_type": "markdown",
   "id": "ed79b348",
   "metadata": {},
   "source": [
    "### Q7. Create a string called ‘string’ with the value as “Machine Learning”. Which code(s)\n",
    "is/are appropriate to slice the substring “Learn”?\n",
    "- a. string[slice(13,8,1)]\n",
    "- b. string[slice(1,8,1)]\n",
    "- c. string[8:14]\n",
    "- d. string[slice(8,13,1)]"
   ]
  },
  {
   "cell_type": "code",
   "execution_count": 24,
   "id": "24bf1130",
   "metadata": {},
   "outputs": [
    {
     "data": {
      "text/plain": [
       "'Learn'"
      ]
     },
     "execution_count": 24,
     "metadata": {},
     "output_type": "execute_result"
    }
   ],
   "source": [
    "#Ans: slice(1,8,1)\n",
    "string ='Machine Learning'\n",
    "string[slice(8,13,1)]"
   ]
  },
  {
   "cell_type": "markdown",
   "id": "a3957cb3",
   "metadata": {},
   "source": [
    "### Q8. Create a sequence of numbers from 10 to 25 and increment by 4. What is the index\n",
    "of the\n",
    "value 18?\n",
    "- a. 3\n",
    "- b. 2\n",
    "- c. 0\n",
    "- d. 1"
   ]
  },
  {
   "cell_type": "code",
   "execution_count": 29,
   "id": "3e6c4b77",
   "metadata": {},
   "outputs": [
    {
     "data": {
      "text/plain": [
       "2"
      ]
     },
     "execution_count": 29,
     "metadata": {},
     "output_type": "execute_result"
    }
   ],
   "source": [
    "#ans b. 2\n",
    "n= range(10,25,4)\n",
    "n.index(18)"
   ]
  },
  {
   "cell_type": "markdown",
   "id": "a1a52a70",
   "metadata": {},
   "source": [
    "### Q9. Which of the following is true with respect to the below codes?\n",
    "- a. num1 = num2\n",
    "- b. num1 ≠ num2\n",
    "- c. num1 < num2\n",
    "- d. num1 > num2"
   ]
  },
  {
   "cell_type": "code",
   "execution_count": 31,
   "id": "abbca6ea",
   "metadata": {},
   "outputs": [
    {
     "name": "stdout",
     "output_type": "stream",
     "text": [
      "625 625\n"
     ]
    }
   ],
   "source": [
    "num1 = 5**4\n",
    "num2 = pow(5,4)\n",
    "print(num1,num2)\n",
    "#ans num1 = num2"
   ]
  },
  {
   "cell_type": "markdown",
   "id": "e52d0619",
   "metadata": {},
   "source": [
    "### Q10.A Python NameError exception is raised when: -\n",
    "- a. Trying to access a variable which has not been defined\n",
    "- b. Trying to access a key in a dictionary that does not exist\n",
    "- c. Accessing a column with misspelled column name\n",
    "- d. Accessing the function from a module that has not been imported "
   ]
  },
  {
   "cell_type": "markdown",
   "id": "d824c3cf",
   "metadata": {},
   "source": [
    "#### ans : a. Trying to access a variable which has not been defined"
   ]
  },
  {
   "cell_type": "markdown",
   "id": "f82e72a0",
   "metadata": {},
   "source": [
    "### Q11.What type of exception will be raised for the code given below?\n",
    "- a. NameError\n",
    "- b. KeyError\n",
    "- c. ValueError\n",
    "- d. AttributeError "
   ]
  },
  {
   "cell_type": "code",
   "execution_count": 33,
   "id": "820f42b9",
   "metadata": {},
   "outputs": [
    {
     "ename": "ValueError",
     "evalue": "invalid literal for int() with base 10: 'string'",
     "output_type": "error",
     "traceback": [
      "\u001b[1;31m---------------------------------------------------------------------------\u001b[0m",
      "\u001b[1;31mValueError\u001b[0m                                Traceback (most recent call last)",
      "Cell \u001b[1;32mIn[33], line 2\u001b[0m\n\u001b[0;32m      1\u001b[0m x\u001b[38;5;241m=\u001b[39m \u001b[38;5;124m'\u001b[39m\u001b[38;5;124mstring\u001b[39m\u001b[38;5;124m'\u001b[39m\n\u001b[1;32m----> 2\u001b[0m \u001b[38;5;28mint\u001b[39m(x)\n",
      "\u001b[1;31mValueError\u001b[0m: invalid literal for int() with base 10: 'string'"
     ]
    }
   ],
   "source": [
    "x= 'string'\n",
    "int(x)\n",
    "# ans : Value error"
   ]
  },
  {
   "cell_type": "markdown",
   "id": "af3fa861",
   "metadata": {},
   "source": [
    "### Q12.A FileNotFoundError exception is raised by operating system errors when: -\n",
    "- a. Trying to create a file or directory which already exists\n",
    "- b. A file or directory is requested but does not exist in the working directory\n",
    "- c. Trying to run an operation without the adequate access rights\n",
    "- d. A directory operation, os.listdir() is requested on something which is not a\n",
    "   directory"
   ]
  },
  {
   "cell_type": "markdown",
   "id": "173cafeb",
   "metadata": {},
   "source": [
    "- ans b:  A file or directory is requested but does not exist in the working directory"
   ]
  },
  {
   "cell_type": "markdown",
   "id": "f2f57af3",
   "metadata": {},
   "source": [
    "### Q13.Consider a variable Z. The value of Z is \"ID-5632\". Data type of Z is: -\n",
    "- a. Complex\n",
    "- b. Character\n",
    "- c. Integer\n",
    "- d. Boolean"
   ]
  },
  {
   "cell_type": "code",
   "execution_count": 36,
   "id": "26f2afca",
   "metadata": {},
   "outputs": [
    {
     "data": {
      "text/plain": [
       "str"
      ]
     },
     "execution_count": 36,
     "metadata": {},
     "output_type": "execute_result"
    }
   ],
   "source": [
    "z= 'ID-5632'\n",
    "type(z)\n",
    "# ans: b. character"
   ]
  },
  {
   "cell_type": "markdown",
   "id": "87583815",
   "metadata": {},
   "source": [
    "### Q14.Which of the following variable(s) are character data type?\n",
    "- a. K= “4”\n",
    "- b. J= “Welcome”\n",
    "- c. L= “?”\n",
    "- d. All of the above"
   ]
  },
  {
   "cell_type": "markdown",
   "id": "6e797049",
   "metadata": {},
   "source": [
    "### ans d. all of the above"
   ]
  },
  {
   "cell_type": "markdown",
   "id": "a9df0e24",
   "metadata": {},
   "source": [
    "### Q15.Choose the symbol/s that does not have the ability to convert any values to string?\n",
    "- a. ( )\n",
    "- b. “ ”\n",
    "- c. {}\n",
    "- d. #"
   ]
  },
  {
   "cell_type": "raw",
   "id": "95a08ab1",
   "metadata": {},
   "source": [
    "ans : d. #"
   ]
  },
  {
   "cell_type": "markdown",
   "id": "68617480",
   "metadata": {},
   "source": [
    "### Q16.Create a dictionary ‘Country’ that maps the following countries to their capitals\n",
    "respectively:\n",
    "- Country India China Japan Qatar France\n",
    "- State Delhi Beijing Tokyo Doha Marseilles\n",
    "- Find 2 commands to replace “Marseilles” with “Paris” is:"
   ]
  },
  {
   "cell_type": "code",
   "execution_count": 43,
   "id": "b8b28e97",
   "metadata": {},
   "outputs": [
    {
     "data": {
      "text/plain": [
       "{'India': 'Delhi',\n",
       " 'China': 'Beijing',\n",
       " 'Japan': 'Tokyo',\n",
       " 'Qatar': 'Doha',\n",
       " 'France': 'Paris'}"
      ]
     },
     "execution_count": 43,
     "metadata": {},
     "output_type": "execute_result"
    }
   ],
   "source": [
    "dict1 ={'India':'Delhi','China':'Beijing', 'Japan':'Tokyo','Qatar':'Doha', 'France':'Marseillies'}\n",
    "#print(dict1)\n",
    "dict1['France']='Paris'\n",
    "dict1"
   ]
  },
  {
   "cell_type": "markdown",
   "id": "4fb99257",
   "metadata": {},
   "source": [
    "### Q17. Create the tuples given below\n",
    "- tuple_1 = (1,5,6,7,8)\n",
    "- tuple_2 = (8,9,4)\n",
    "- Identify which of the following code does not work on a tuple.\n",
    "- a. sum(tuple_1)\n",
    "- b. len(tuple_2)\n",
    "- c. tuple_2 + tuple_1\n",
    "- d. tuple_1[3] = 45"
   ]
  },
  {
   "cell_type": "code",
   "execution_count": 49,
   "id": "5e4db0a3",
   "metadata": {},
   "outputs": [
    {
     "ename": "TypeError",
     "evalue": "'tuple' object does not support item assignment",
     "output_type": "error",
     "traceback": [
      "\u001b[1;31m---------------------------------------------------------------------------\u001b[0m",
      "\u001b[1;31mTypeError\u001b[0m                                 Traceback (most recent call last)",
      "Cell \u001b[1;32mIn[49], line 6\u001b[0m\n\u001b[0;32m      4\u001b[0m \u001b[38;5;28mlen\u001b[39m(tuple_2)\n\u001b[0;32m      5\u001b[0m tuple_2 \u001b[38;5;241m+\u001b[39m tuple_1\n\u001b[1;32m----> 6\u001b[0m tuple_1[\u001b[38;5;241m3\u001b[39m] \u001b[38;5;241m=\u001b[39m \u001b[38;5;241m45\u001b[39m\n",
      "\u001b[1;31mTypeError\u001b[0m: 'tuple' object does not support item assignment"
     ]
    }
   ],
   "source": [
    "tuple_1 = (1,5,6,7,8)\n",
    "tuple_2 = (8,9,4)\n",
    "sum(tuple_1)\n",
    "len(tuple_2)\n",
    "tuple_2 + tuple_1\n",
    "tuple_1[3] = 45\n",
    "\n",
    "# ans d: tuple_1[3] = 45"
   ]
  },
  {
   "cell_type": "markdown",
   "id": "dbc3d546",
   "metadata": {},
   "source": [
    "### Q18. How many elements in the following data structure?"
   ]
  },
  {
   "cell_type": "code",
   "execution_count": 54,
   "id": "f0c4f24a",
   "metadata": {},
   "outputs": [
    {
     "data": {
      "text/plain": [
       "6"
      ]
     },
     "execution_count": 54,
     "metadata": {},
     "output_type": "execute_result"
    }
   ],
   "source": [
    "s={1,2,3,4,4,4,5,6}\n",
    "len(s)\n",
    "# ans: 6"
   ]
  },
  {
   "cell_type": "markdown",
   "id": "aa853436",
   "metadata": {},
   "source": [
    "### Q19.Write a function which finds all pythagorean triplets of triangles whose sides are no\n",
    "            greater than a natural number N"
   ]
  },
  {
   "cell_type": "code",
   "execution_count": 59,
   "id": "10e60ca4",
   "metadata": {},
   "outputs": [
    {
     "name": "stdout",
     "output_type": "stream",
     "text": [
      "Enter N natural number:50\n",
      "[(3, 4, 5), (5, 12, 13), (6, 8, 10), (7, 24, 25), (8, 15, 17), (9, 12, 15), (9, 40, 41), (10, 24, 26), (12, 16, 20), (12, 35, 37), (14, 48, 50), (15, 20, 25), (15, 36, 39), (16, 30, 34), (18, 24, 30), (20, 21, 29), (21, 28, 35), (24, 32, 40), (27, 36, 45), (30, 40, 50)]\n"
     ]
    }
   ],
   "source": [
    "def pythagorean_triplets(N):\n",
    "    triplets =[]\n",
    "    for a in range(1,N+1):\n",
    "        for b in range(a,N+1):\n",
    "            c = (a**2 +b**2)** 0.5\n",
    "            if c.is_integer() and c<= N:\n",
    "                triplets.append((a,b,int(c)))\n",
    "    return triplets\n",
    "N= int(input(\"Enter N natural number:\"))\n",
    "print(pythagorean_triplets(N))"
   ]
  },
  {
   "cell_type": "code",
   "execution_count": null,
   "id": "9fe13a1f",
   "metadata": {},
   "outputs": [],
   "source": []
  }
 ],
 "metadata": {
  "kernelspec": {
   "display_name": "Python 3 (ipykernel)",
   "language": "python",
   "name": "python3"
  },
  "language_info": {
   "codemirror_mode": {
    "name": "ipython",
    "version": 3
   },
   "file_extension": ".py",
   "mimetype": "text/x-python",
   "name": "python",
   "nbconvert_exporter": "python",
   "pygments_lexer": "ipython3",
   "version": "3.11.5"
  }
 },
 "nbformat": 4,
 "nbformat_minor": 5
}
